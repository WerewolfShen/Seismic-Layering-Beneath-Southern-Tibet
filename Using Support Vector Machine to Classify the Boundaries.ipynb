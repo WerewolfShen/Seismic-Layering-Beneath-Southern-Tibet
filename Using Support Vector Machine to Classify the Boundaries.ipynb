{
 "cells": [
  {
   "cell_type": "markdown",
   "id": "47923bc8",
   "metadata": {},
   "source": [
    "<h1 align=\"center\"> Using Support Vector Machine to Classify the Boundaries</h1>"
   ]
  },
  {
   "cell_type": "markdown",
   "id": "e6850fb5",
   "metadata": {},
   "source": [
    "### 1. Read the null data into Dataframe"
   ]
  },
  {
   "cell_type": "code",
   "execution_count": 1,
   "id": "45b74185",
   "metadata": {},
   "outputs": [],
   "source": [
    "from sklearn import datasets\n",
    "import pandas as pd\n",
    "import numpy as np\n",
    "from sklearn import model_selection\n",
    "from sklearn import metrics"
   ]
  },
  {
   "cell_type": "code",
   "execution_count": 2,
   "id": "3d1928ff",
   "metadata": {},
   "outputs": [],
   "source": [
    "dat=pd.read_csv('null.txt',delim_whitespace=True,header=None)"
   ]
  },
  {
   "cell_type": "code",
   "execution_count": 3,
   "id": "c034ddf9",
   "metadata": {},
   "outputs": [
    {
     "data": {
      "text/plain": [
       "(219, 11)"
      ]
     },
     "execution_count": 3,
     "metadata": {},
     "output_type": "execute_result"
    }
   ],
   "source": [
    "dat.shape"
   ]
  },
  {
   "cell_type": "code",
   "execution_count": 4,
   "id": "547c4f85",
   "metadata": {},
   "outputs": [
    {
     "data": {
      "text/html": [
       "<div>\n",
       "<style scoped>\n",
       "    .dataframe tbody tr th:only-of-type {\n",
       "        vertical-align: middle;\n",
       "    }\n",
       "\n",
       "    .dataframe tbody tr th {\n",
       "        vertical-align: top;\n",
       "    }\n",
       "\n",
       "    .dataframe thead th {\n",
       "        text-align: right;\n",
       "    }\n",
       "</style>\n",
       "<table border=\"1\" class=\"dataframe\">\n",
       "  <thead>\n",
       "    <tr style=\"text-align: right;\">\n",
       "      <th></th>\n",
       "      <th>Nst</th>\n",
       "      <th>Nph</th>\n",
       "      <th>Event</th>\n",
       "      <th>Stlat</th>\n",
       "      <th>Stlon</th>\n",
       "      <th>Mean_phi</th>\n",
       "      <th>Mean_dt</th>\n",
       "      <th>Rlon</th>\n",
       "      <th>Rlat</th>\n",
       "      <th>Baz</th>\n",
       "      <th>TorF</th>\n",
       "    </tr>\n",
       "  </thead>\n",
       "  <tbody>\n",
       "    <tr>\n",
       "      <th>0</th>\n",
       "      <td>H1070x_XF</td>\n",
       "      <td>PKS</td>\n",
       "      <td>EQ041810701</td>\n",
       "      <td>29.78</td>\n",
       "      <td>85.76</td>\n",
       "      <td>23.718</td>\n",
       "      <td>1.120</td>\n",
       "      <td>85.736</td>\n",
       "      <td>29.903</td>\n",
       "      <td>349.16</td>\n",
       "      <td>T</td>\n",
       "    </tr>\n",
       "    <tr>\n",
       "      <th>1</th>\n",
       "      <td>H1080x_XF</td>\n",
       "      <td>PKS</td>\n",
       "      <td>EQ041810701</td>\n",
       "      <td>29.85</td>\n",
       "      <td>85.78</td>\n",
       "      <td>30.500</td>\n",
       "      <td>0.775</td>\n",
       "      <td>85.757</td>\n",
       "      <td>29.973</td>\n",
       "      <td>349.20</td>\n",
       "      <td>T</td>\n",
       "    </tr>\n",
       "    <tr>\n",
       "      <th>2</th>\n",
       "      <td>H1080x_XF</td>\n",
       "      <td>PKS</td>\n",
       "      <td>EQ043250807</td>\n",
       "      <td>29.85</td>\n",
       "      <td>85.78</td>\n",
       "      <td>30.500</td>\n",
       "      <td>0.775</td>\n",
       "      <td>85.747</td>\n",
       "      <td>29.970</td>\n",
       "      <td>344.60</td>\n",
       "      <td>T</td>\n",
       "    </tr>\n",
       "    <tr>\n",
       "      <th>3</th>\n",
       "      <td>H1080x_XF</td>\n",
       "      <td>PKS</td>\n",
       "      <td>EQ043252201</td>\n",
       "      <td>29.85</td>\n",
       "      <td>85.78</td>\n",
       "      <td>38.198</td>\n",
       "      <td>1.320</td>\n",
       "      <td>85.757</td>\n",
       "      <td>30.068</td>\n",
       "      <td>354.07</td>\n",
       "      <td>T</td>\n",
       "    </tr>\n",
       "    <tr>\n",
       "      <th>4</th>\n",
       "      <td>H1090x_XF</td>\n",
       "      <td>PKS</td>\n",
       "      <td>EQ042832126</td>\n",
       "      <td>29.92</td>\n",
       "      <td>85.73</td>\n",
       "      <td>38.198</td>\n",
       "      <td>1.320</td>\n",
       "      <td>85.689</td>\n",
       "      <td>30.126</td>\n",
       "      <td>348.76</td>\n",
       "      <td>T</td>\n",
       "    </tr>\n",
       "    <tr>\n",
       "      <th>...</th>\n",
       "      <td>...</td>\n",
       "      <td>...</td>\n",
       "      <td>...</td>\n",
       "      <td>...</td>\n",
       "      <td>...</td>\n",
       "      <td>...</td>\n",
       "      <td>...</td>\n",
       "      <td>...</td>\n",
       "      <td>...</td>\n",
       "      <td>...</td>\n",
       "      <td>...</td>\n",
       "    </tr>\n",
       "    <tr>\n",
       "      <th>214</th>\n",
       "      <td>H0730x_XF</td>\n",
       "      <td>SKS</td>\n",
       "      <td>EQ032331212</td>\n",
       "      <td>29.17</td>\n",
       "      <td>85.36</td>\n",
       "      <td>55.000</td>\n",
       "      <td>1.100</td>\n",
       "      <td>85.674</td>\n",
       "      <td>28.871</td>\n",
       "      <td>133.56</td>\n",
       "      <td>F</td>\n",
       "    </tr>\n",
       "    <tr>\n",
       "      <th>215</th>\n",
       "      <td>H0730x_XF</td>\n",
       "      <td>SKS</td>\n",
       "      <td>EQ033592042</td>\n",
       "      <td>29.17</td>\n",
       "      <td>85.36</td>\n",
       "      <td>172.000</td>\n",
       "      <td>1.100</td>\n",
       "      <td>85.833</td>\n",
       "      <td>28.977</td>\n",
       "      <td>112.16</td>\n",
       "      <td>U</td>\n",
       "    </tr>\n",
       "    <tr>\n",
       "      <th>216</th>\n",
       "      <td>H0750x_XF</td>\n",
       "      <td>SKS</td>\n",
       "      <td>EQ032331212</td>\n",
       "      <td>29.23</td>\n",
       "      <td>85.31</td>\n",
       "      <td>55.000</td>\n",
       "      <td>1.100</td>\n",
       "      <td>85.624</td>\n",
       "      <td>28.932</td>\n",
       "      <td>133.53</td>\n",
       "      <td>F</td>\n",
       "    </tr>\n",
       "    <tr>\n",
       "      <th>217</th>\n",
       "      <td>H0790x_XF</td>\n",
       "      <td>SKS</td>\n",
       "      <td>EQ042721529</td>\n",
       "      <td>29.38</td>\n",
       "      <td>85.23</td>\n",
       "      <td>73.570</td>\n",
       "      <td>1.400</td>\n",
       "      <td>84.966</td>\n",
       "      <td>28.942</td>\n",
       "      <td>211.08</td>\n",
       "      <td>T</td>\n",
       "    </tr>\n",
       "    <tr>\n",
       "      <th>218</th>\n",
       "      <td>H1000x_XF</td>\n",
       "      <td>SKS</td>\n",
       "      <td>EQ043272026</td>\n",
       "      <td>29.27</td>\n",
       "      <td>85.86</td>\n",
       "      <td>172.000</td>\n",
       "      <td>1.100</td>\n",
       "      <td>86.167</td>\n",
       "      <td>28.953</td>\n",
       "      <td>135.95</td>\n",
       "      <td>U</td>\n",
       "    </tr>\n",
       "  </tbody>\n",
       "</table>\n",
       "<p>219 rows × 11 columns</p>\n",
       "</div>"
      ],
      "text/plain": [
       "           Nst  Nph        Event  Stlat  Stlon  Mean_phi  Mean_dt    Rlon  \\\n",
       "0    H1070x_XF  PKS  EQ041810701  29.78  85.76    23.718    1.120  85.736   \n",
       "1    H1080x_XF  PKS  EQ041810701  29.85  85.78    30.500    0.775  85.757   \n",
       "2    H1080x_XF  PKS  EQ043250807  29.85  85.78    30.500    0.775  85.747   \n",
       "3    H1080x_XF  PKS  EQ043252201  29.85  85.78    38.198    1.320  85.757   \n",
       "4    H1090x_XF  PKS  EQ042832126  29.92  85.73    38.198    1.320  85.689   \n",
       "..         ...  ...          ...    ...    ...       ...      ...     ...   \n",
       "214  H0730x_XF  SKS  EQ032331212  29.17  85.36    55.000    1.100  85.674   \n",
       "215  H0730x_XF  SKS  EQ033592042  29.17  85.36   172.000    1.100  85.833   \n",
       "216  H0750x_XF  SKS  EQ032331212  29.23  85.31    55.000    1.100  85.624   \n",
       "217  H0790x_XF  SKS  EQ042721529  29.38  85.23    73.570    1.400  84.966   \n",
       "218  H1000x_XF  SKS  EQ043272026  29.27  85.86   172.000    1.100  86.167   \n",
       "\n",
       "       Rlat     Baz TorF  \n",
       "0    29.903  349.16    T  \n",
       "1    29.973  349.20    T  \n",
       "2    29.970  344.60    T  \n",
       "3    30.068  354.07    T  \n",
       "4    30.126  348.76    T  \n",
       "..      ...     ...  ...  \n",
       "214  28.871  133.56    F  \n",
       "215  28.977  112.16    U  \n",
       "216  28.932  133.53    F  \n",
       "217  28.942  211.08    T  \n",
       "218  28.953  135.95    U  \n",
       "\n",
       "[219 rows x 11 columns]"
      ]
     },
     "execution_count": 4,
     "metadata": {},
     "output_type": "execute_result"
    }
   ],
   "source": [
    "dat.columns=[\"Nst\",\"Nph\",\"Event\",\"Stlat\",\"Stlon\",\"Mean_phi\",\"Mean_dt\",\"Rlon\",\"Rlat\",\"Baz\",\"TorF\"]\n",
    "dat"
   ]
  },
  {
   "cell_type": "code",
   "execution_count": 5,
   "id": "9a6a11fa",
   "metadata": {},
   "outputs": [
    {
     "data": {
      "text/plain": [
       "(219, 11)"
      ]
     },
     "execution_count": 5,
     "metadata": {},
     "output_type": "execute_result"
    }
   ],
   "source": [
    "dat.shape"
   ]
  },
  {
   "cell_type": "code",
   "execution_count": 6,
   "id": "3ae44dd7",
   "metadata": {},
   "outputs": [],
   "source": [
    "dat=dat.loc[dat['TorF']!='U']"
   ]
  },
  {
   "cell_type": "code",
   "execution_count": 7,
   "id": "714368c5",
   "metadata": {},
   "outputs": [
    {
     "data": {
      "text/plain": [
       "(203, 11)"
      ]
     },
     "execution_count": 7,
     "metadata": {},
     "output_type": "execute_result"
    }
   ],
   "source": [
    "dat.shape"
   ]
  },
  {
   "cell_type": "code",
   "execution_count": 8,
   "id": "f2d237b9",
   "metadata": {},
   "outputs": [
    {
     "data": {
      "text/html": [
       "<div>\n",
       "<style scoped>\n",
       "    .dataframe tbody tr th:only-of-type {\n",
       "        vertical-align: middle;\n",
       "    }\n",
       "\n",
       "    .dataframe tbody tr th {\n",
       "        vertical-align: top;\n",
       "    }\n",
       "\n",
       "    .dataframe thead th {\n",
       "        text-align: right;\n",
       "    }\n",
       "</style>\n",
       "<table border=\"1\" class=\"dataframe\">\n",
       "  <thead>\n",
       "    <tr style=\"text-align: right;\">\n",
       "      <th></th>\n",
       "      <th>Nst</th>\n",
       "      <th>Nph</th>\n",
       "      <th>Event</th>\n",
       "      <th>Stlat</th>\n",
       "      <th>Stlon</th>\n",
       "      <th>Mean_phi</th>\n",
       "      <th>Mean_dt</th>\n",
       "      <th>Rlon</th>\n",
       "      <th>Rlat</th>\n",
       "      <th>Baz</th>\n",
       "      <th>TorF</th>\n",
       "    </tr>\n",
       "  </thead>\n",
       "  <tbody>\n",
       "    <tr>\n",
       "      <th>21</th>\n",
       "      <td>H1260x_XF</td>\n",
       "      <td>PKS</td>\n",
       "      <td>EQ043250807</td>\n",
       "      <td>31.15</td>\n",
       "      <td>85.01</td>\n",
       "      <td>95.000</td>\n",
       "      <td>1.200</td>\n",
       "      <td>84.951</td>\n",
       "      <td>31.353</td>\n",
       "      <td>343.89</td>\n",
       "      <td>F</td>\n",
       "    </tr>\n",
       "    <tr>\n",
       "      <th>73</th>\n",
       "      <td>H0740x_XF</td>\n",
       "      <td>PKS</td>\n",
       "      <td>EQ040620347</td>\n",
       "      <td>29.20</td>\n",
       "      <td>85.36</td>\n",
       "      <td>75.255</td>\n",
       "      <td>1.228</td>\n",
       "      <td>85.315</td>\n",
       "      <td>29.414</td>\n",
       "      <td>348.26</td>\n",
       "      <td>F</td>\n",
       "    </tr>\n",
       "    <tr>\n",
       "      <th>207</th>\n",
       "      <td>H0700x_XF</td>\n",
       "      <td>SKS</td>\n",
       "      <td>EQ033592042</td>\n",
       "      <td>29.06</td>\n",
       "      <td>85.42</td>\n",
       "      <td>55.000</td>\n",
       "      <td>1.100</td>\n",
       "      <td>85.894</td>\n",
       "      <td>28.867</td>\n",
       "      <td>112.19</td>\n",
       "      <td>T</td>\n",
       "    </tr>\n",
       "    <tr>\n",
       "      <th>74</th>\n",
       "      <td>H0740x_XF</td>\n",
       "      <td>PKS</td>\n",
       "      <td>EQ041200057</td>\n",
       "      <td>29.20</td>\n",
       "      <td>85.36</td>\n",
       "      <td>69.858</td>\n",
       "      <td>1.179</td>\n",
       "      <td>85.330</td>\n",
       "      <td>29.329</td>\n",
       "      <td>346.89</td>\n",
       "      <td>F</td>\n",
       "    </tr>\n",
       "    <tr>\n",
       "      <th>111</th>\n",
       "      <td>H0090x_XF</td>\n",
       "      <td>PKS</td>\n",
       "      <td>EQ030220206</td>\n",
       "      <td>27.20</td>\n",
       "      <td>84.98</td>\n",
       "      <td>89.528</td>\n",
       "      <td>1.414</td>\n",
       "      <td>85.045</td>\n",
       "      <td>27.509</td>\n",
       "      <td>11.89</td>\n",
       "      <td>F</td>\n",
       "    </tr>\n",
       "    <tr>\n",
       "      <th>70</th>\n",
       "      <td>H0660x_XF</td>\n",
       "      <td>PKS</td>\n",
       "      <td>EQ040620347</td>\n",
       "      <td>28.92</td>\n",
       "      <td>85.42</td>\n",
       "      <td>85.000</td>\n",
       "      <td>0.850</td>\n",
       "      <td>85.393</td>\n",
       "      <td>29.050</td>\n",
       "      <td>348.28</td>\n",
       "      <td>F</td>\n",
       "    </tr>\n",
       "    <tr>\n",
       "      <th>191</th>\n",
       "      <td>H0610x_XF</td>\n",
       "      <td>SKS</td>\n",
       "      <td>EQ040510558</td>\n",
       "      <td>28.75</td>\n",
       "      <td>85.30</td>\n",
       "      <td>77.745</td>\n",
       "      <td>1.214</td>\n",
       "      <td>85.871</td>\n",
       "      <td>28.604</td>\n",
       "      <td>104.35</td>\n",
       "      <td>T</td>\n",
       "    </tr>\n",
       "    <tr>\n",
       "      <th>138</th>\n",
       "      <td>H0630x_XF</td>\n",
       "      <td>PKS</td>\n",
       "      <td>EQ041200057</td>\n",
       "      <td>28.82</td>\n",
       "      <td>85.29</td>\n",
       "      <td>72.500</td>\n",
       "      <td>1.225</td>\n",
       "      <td>85.253</td>\n",
       "      <td>28.978</td>\n",
       "      <td>346.69</td>\n",
       "      <td>F</td>\n",
       "    </tr>\n",
       "    <tr>\n",
       "      <th>80</th>\n",
       "      <td>H1050x_XF</td>\n",
       "      <td>PKS</td>\n",
       "      <td>EQ041810701</td>\n",
       "      <td>29.64</td>\n",
       "      <td>85.72</td>\n",
       "      <td>74.359</td>\n",
       "      <td>1.114</td>\n",
       "      <td>85.695</td>\n",
       "      <td>29.770</td>\n",
       "      <td>349.07</td>\n",
       "      <td>F</td>\n",
       "    </tr>\n",
       "    <tr>\n",
       "      <th>127</th>\n",
       "      <td>H0340x_XF</td>\n",
       "      <td>PKS</td>\n",
       "      <td>EQ031711330</td>\n",
       "      <td>27.89</td>\n",
       "      <td>85.15</td>\n",
       "      <td>94.500</td>\n",
       "      <td>1.175</td>\n",
       "      <td>85.056</td>\n",
       "      <td>27.868</td>\n",
       "      <td>256.80</td>\n",
       "      <td>F</td>\n",
       "    </tr>\n",
       "  </tbody>\n",
       "</table>\n",
       "</div>"
      ],
      "text/plain": [
       "           Nst  Nph        Event  Stlat  Stlon  Mean_phi  Mean_dt    Rlon  \\\n",
       "21   H1260x_XF  PKS  EQ043250807  31.15  85.01    95.000    1.200  84.951   \n",
       "73   H0740x_XF  PKS  EQ040620347  29.20  85.36    75.255    1.228  85.315   \n",
       "207  H0700x_XF  SKS  EQ033592042  29.06  85.42    55.000    1.100  85.894   \n",
       "74   H0740x_XF  PKS  EQ041200057  29.20  85.36    69.858    1.179  85.330   \n",
       "111  H0090x_XF  PKS  EQ030220206  27.20  84.98    89.528    1.414  85.045   \n",
       "70   H0660x_XF  PKS  EQ040620347  28.92  85.42    85.000    0.850  85.393   \n",
       "191  H0610x_XF  SKS  EQ040510558  28.75  85.30    77.745    1.214  85.871   \n",
       "138  H0630x_XF  PKS  EQ041200057  28.82  85.29    72.500    1.225  85.253   \n",
       "80   H1050x_XF  PKS  EQ041810701  29.64  85.72    74.359    1.114  85.695   \n",
       "127  H0340x_XF  PKS  EQ031711330  27.89  85.15    94.500    1.175  85.056   \n",
       "\n",
       "       Rlat     Baz TorF  \n",
       "21   31.353  343.89    F  \n",
       "73   29.414  348.26    F  \n",
       "207  28.867  112.19    T  \n",
       "74   29.329  346.89    F  \n",
       "111  27.509   11.89    F  \n",
       "70   29.050  348.28    F  \n",
       "191  28.604  104.35    T  \n",
       "138  28.978  346.69    F  \n",
       "80   29.770  349.07    F  \n",
       "127  27.868  256.80    F  "
      ]
     },
     "execution_count": 8,
     "metadata": {},
     "output_type": "execute_result"
    }
   ],
   "source": [
    "dat.sample(10)"
   ]
  },
  {
   "cell_type": "code",
   "execution_count": 9,
   "id": "b9c4639a",
   "metadata": {},
   "outputs": [
    {
     "name": "stdout",
     "output_type": "stream",
     "text": [
      "<class 'pandas.core.frame.DataFrame'>\n",
      "Int64Index: 203 entries, 0 to 217\n",
      "Data columns (total 11 columns):\n",
      " #   Column    Non-Null Count  Dtype  \n",
      "---  ------    --------------  -----  \n",
      " 0   Nst       203 non-null    object \n",
      " 1   Nph       203 non-null    object \n",
      " 2   Event     203 non-null    object \n",
      " 3   Stlat     203 non-null    float64\n",
      " 4   Stlon     203 non-null    float64\n",
      " 5   Mean_phi  203 non-null    float64\n",
      " 6   Mean_dt   203 non-null    float64\n",
      " 7   Rlon      203 non-null    float64\n",
      " 8   Rlat      203 non-null    float64\n",
      " 9   Baz       203 non-null    float64\n",
      " 10  TorF      203 non-null    object \n",
      "dtypes: float64(7), object(4)\n",
      "memory usage: 19.0+ KB\n"
     ]
    }
   ],
   "source": [
    "dat.info()"
   ]
  },
  {
   "cell_type": "code",
   "execution_count": 10,
   "id": "8a679d3b",
   "metadata": {},
   "outputs": [
    {
     "data": {
      "text/html": [
       "<div>\n",
       "<style scoped>\n",
       "    .dataframe tbody tr th:only-of-type {\n",
       "        vertical-align: middle;\n",
       "    }\n",
       "\n",
       "    .dataframe tbody tr th {\n",
       "        vertical-align: top;\n",
       "    }\n",
       "\n",
       "    .dataframe thead th {\n",
       "        text-align: right;\n",
       "    }\n",
       "</style>\n",
       "<table border=\"1\" class=\"dataframe\">\n",
       "  <thead>\n",
       "    <tr style=\"text-align: right;\">\n",
       "      <th></th>\n",
       "      <th>Stlat</th>\n",
       "      <th>Stlon</th>\n",
       "      <th>Mean_phi</th>\n",
       "      <th>Mean_dt</th>\n",
       "      <th>Rlon</th>\n",
       "      <th>Rlat</th>\n",
       "      <th>Baz</th>\n",
       "    </tr>\n",
       "  </thead>\n",
       "  <tbody>\n",
       "    <tr>\n",
       "      <th>count</th>\n",
       "      <td>203.000000</td>\n",
       "      <td>203.000000</td>\n",
       "      <td>203.000000</td>\n",
       "      <td>203.000000</td>\n",
       "      <td>203.000000</td>\n",
       "      <td>203.000000</td>\n",
       "      <td>203.000000</td>\n",
       "    </tr>\n",
       "    <tr>\n",
       "      <th>mean</th>\n",
       "      <td>29.322956</td>\n",
       "      <td>85.143054</td>\n",
       "      <td>75.137300</td>\n",
       "      <td>1.092768</td>\n",
       "      <td>85.290926</td>\n",
       "      <td>29.344498</td>\n",
       "      <td>185.430394</td>\n",
       "    </tr>\n",
       "    <tr>\n",
       "      <th>std</th>\n",
       "      <td>1.730568</td>\n",
       "      <td>0.372024</td>\n",
       "      <td>20.428337</td>\n",
       "      <td>0.192540</td>\n",
       "      <td>0.459285</td>\n",
       "      <td>1.786199</td>\n",
       "      <td>123.239788</td>\n",
       "    </tr>\n",
       "    <tr>\n",
       "      <th>min</th>\n",
       "      <td>26.710000</td>\n",
       "      <td>83.870000</td>\n",
       "      <td>19.000000</td>\n",
       "      <td>0.550000</td>\n",
       "      <td>83.809000</td>\n",
       "      <td>26.694000</td>\n",
       "      <td>8.550000</td>\n",
       "    </tr>\n",
       "    <tr>\n",
       "      <th>25%</th>\n",
       "      <td>27.900000</td>\n",
       "      <td>85.010000</td>\n",
       "      <td>61.989000</td>\n",
       "      <td>0.970000</td>\n",
       "      <td>85.048000</td>\n",
       "      <td>28.004000</td>\n",
       "      <td>101.480000</td>\n",
       "    </tr>\n",
       "    <tr>\n",
       "      <th>50%</th>\n",
       "      <td>28.980000</td>\n",
       "      <td>85.190000</td>\n",
       "      <td>78.628000</td>\n",
       "      <td>1.100000</td>\n",
       "      <td>85.328000</td>\n",
       "      <td>28.939000</td>\n",
       "      <td>112.290000</td>\n",
       "    </tr>\n",
       "    <tr>\n",
       "      <th>75%</th>\n",
       "      <td>30.465000</td>\n",
       "      <td>85.350000</td>\n",
       "      <td>88.419500</td>\n",
       "      <td>1.226500</td>\n",
       "      <td>85.690000</td>\n",
       "      <td>30.492500</td>\n",
       "      <td>343.950000</td>\n",
       "    </tr>\n",
       "    <tr>\n",
       "      <th>max</th>\n",
       "      <td>33.970000</td>\n",
       "      <td>85.920000</td>\n",
       "      <td>179.424000</td>\n",
       "      <td>1.700000</td>\n",
       "      <td>86.082000</td>\n",
       "      <td>33.908000</td>\n",
       "      <td>356.300000</td>\n",
       "    </tr>\n",
       "  </tbody>\n",
       "</table>\n",
       "</div>"
      ],
      "text/plain": [
       "            Stlat       Stlon    Mean_phi     Mean_dt        Rlon        Rlat  \\\n",
       "count  203.000000  203.000000  203.000000  203.000000  203.000000  203.000000   \n",
       "mean    29.322956   85.143054   75.137300    1.092768   85.290926   29.344498   \n",
       "std      1.730568    0.372024   20.428337    0.192540    0.459285    1.786199   \n",
       "min     26.710000   83.870000   19.000000    0.550000   83.809000   26.694000   \n",
       "25%     27.900000   85.010000   61.989000    0.970000   85.048000   28.004000   \n",
       "50%     28.980000   85.190000   78.628000    1.100000   85.328000   28.939000   \n",
       "75%     30.465000   85.350000   88.419500    1.226500   85.690000   30.492500   \n",
       "max     33.970000   85.920000  179.424000    1.700000   86.082000   33.908000   \n",
       "\n",
       "              Baz  \n",
       "count  203.000000  \n",
       "mean   185.430394  \n",
       "std    123.239788  \n",
       "min      8.550000  \n",
       "25%    101.480000  \n",
       "50%    112.290000  \n",
       "75%    343.950000  \n",
       "max    356.300000  "
      ]
     },
     "execution_count": 10,
     "metadata": {},
     "output_type": "execute_result"
    }
   ],
   "source": [
    "dat.describe()"
   ]
  },
  {
   "cell_type": "markdown",
   "id": "c30176db",
   "metadata": {},
   "source": [
    "### 2. Data Preprocessing"
   ]
  },
  {
   "cell_type": "markdown",
   "id": "365484e0",
   "metadata": {},
   "source": [
    "We use the sklearn.model_selection.train_test_split() method to split the dataset into test and training sets. Major parameters are:\n",
    "\n",
    "- **test_size** : float, int, or None (default is None). If float, should be between 0.0 and 1.0 and represent the proportion of the dataset to include in the test split. If int, represents the absolute number of test samples. If None, the value is automatically set to the complement of the train size. If train size is also None, test size is set to 0.25.\n",
    "\n",
    "- **train_size** : float, int, or None (default is None). If float, should be between 0.0 and 1.0 and represent the proportion of the dataset to include in the train split. If int, represents the absolute number of train samples. If None, the value is automatically set to the complement of the test size.\n",
    "\n",
    "- **random_state** : Pseudo-random number generator state used for random sampling."
   ]
  },
  {
   "cell_type": "code",
   "execution_count": 11,
   "id": "c0eed66b",
   "metadata": {},
   "outputs": [],
   "source": [
    "# 10-90% simple split\n",
    "# To make the result reproducible, set the random_state\n",
    "train_y,test_y,train_X,test_X = model_selection.train_test_split(dat['TorF'], \n",
    "                                                                 dat.drop(['TorF','Nst','Nph','Event','Stlat','Stlon','Mean_phi','Mean_dt','Baz'], axis=1),\n",
    "                                                                 test_size=0.1,\n",
    "                                                                 random_state=100)"
   ]
  },
  {
   "cell_type": "code",
   "execution_count": 12,
   "id": "d3876401",
   "metadata": {},
   "outputs": [
    {
     "data": {
      "text/plain": [
       "(182,)"
      ]
     },
     "execution_count": 12,
     "metadata": {},
     "output_type": "execute_result"
    }
   ],
   "source": [
    "train_y.shape"
   ]
  },
  {
   "cell_type": "code",
   "execution_count": 13,
   "id": "c34fc985",
   "metadata": {},
   "outputs": [
    {
     "data": {
      "text/plain": [
       "(21,)"
      ]
     },
     "execution_count": 13,
     "metadata": {},
     "output_type": "execute_result"
    }
   ],
   "source": [
    "test_y.shape"
   ]
  },
  {
   "cell_type": "code",
   "execution_count": 14,
   "id": "5690346f",
   "metadata": {},
   "outputs": [
    {
     "data": {
      "text/plain": [
       "(182, 2)"
      ]
     },
     "execution_count": 14,
     "metadata": {},
     "output_type": "execute_result"
    }
   ],
   "source": [
    "train_X.shape"
   ]
  },
  {
   "cell_type": "code",
   "execution_count": 15,
   "id": "f93173ad",
   "metadata": {},
   "outputs": [
    {
     "data": {
      "text/plain": [
       "(21, 2)"
      ]
     },
     "execution_count": 15,
     "metadata": {},
     "output_type": "execute_result"
    }
   ],
   "source": [
    "test_X.shape"
   ]
  },
  {
   "cell_type": "markdown",
   "id": "c2ccf142",
   "metadata": {},
   "source": [
    "### 3. Support Vector Machine"
   ]
  },
  {
   "cell_type": "markdown",
   "id": "8ad14563",
   "metadata": {},
   "source": [
    "First, build a support vector classifier with linear kernel. We manually set the parameter C as 1.0. Then we use the test set to evaluate performance of the SVC."
   ]
  },
  {
   "cell_type": "code",
   "execution_count": 16,
   "id": "af6b369e",
   "metadata": {},
   "outputs": [],
   "source": [
    "from sklearn import svm"
   ]
  },
  {
   "cell_type": "code",
   "execution_count": 17,
   "id": "e383c71f",
   "metadata": {},
   "outputs": [],
   "source": [
    "# Train an SVC with linear kernel\n",
    "svc_linear = svm.SVC(kernel='linear', C=1.0)"
   ]
  },
  {
   "cell_type": "code",
   "execution_count": 18,
   "id": "3ef3a49a",
   "metadata": {},
   "outputs": [
    {
     "data": {
      "text/plain": [
       "SVC(kernel='linear')"
      ]
     },
     "execution_count": 18,
     "metadata": {},
     "output_type": "execute_result"
    }
   ],
   "source": [
    "svc_linear.fit(train_X,train_y)"
   ]
  },
  {
   "cell_type": "code",
   "execution_count": 19,
   "id": "2f962bd6",
   "metadata": {},
   "outputs": [],
   "source": [
    "# Predict on test set\n",
    "pred_y1 = svc_linear.predict(test_X)"
   ]
  },
  {
   "cell_type": "code",
   "execution_count": 20,
   "id": "1e3afa5f",
   "metadata": {},
   "outputs": [
    {
     "data": {
      "text/plain": [
       "F    11\n",
       "T    10\n",
       "Name: TorF, dtype: int64"
      ]
     },
     "execution_count": 20,
     "metadata": {},
     "output_type": "execute_result"
    }
   ],
   "source": [
    "# Count of the values in the test_y\n",
    "test_y.value_counts()"
   ]
  },
  {
   "cell_type": "code",
   "execution_count": 21,
   "id": "a26d80e6",
   "metadata": {},
   "outputs": [
    {
     "data": {
      "text/plain": [
       "F    11\n",
       "T    10\n",
       "dtype: int64"
      ]
     },
     "execution_count": 21,
     "metadata": {},
     "output_type": "execute_result"
    }
   ],
   "source": [
    "# Count of the values in the pred_y\n",
    "pd.Series(pred_y1).value_counts()"
   ]
  },
  {
   "cell_type": "code",
   "execution_count": 22,
   "id": "06b12cf1",
   "metadata": {},
   "outputs": [
    {
     "name": "stdout",
     "output_type": "stream",
     "text": [
      "[[8 3]\n",
      " [3 7]]\n"
     ]
    }
   ],
   "source": [
    "# Print confusion matrix\n",
    "print(metrics.confusion_matrix(test_y, pred_y1))"
   ]
  },
  {
   "cell_type": "markdown",
   "id": "d5add080",
   "metadata": {},
   "source": [
    "We can see that the trained SVC has bad performance."
   ]
  },
  {
   "cell_type": "code",
   "execution_count": 23,
   "id": "dfa7070c",
   "metadata": {},
   "outputs": [
    {
     "data": {
      "text/plain": [
       "0.7142857142857143"
      ]
     },
     "execution_count": 23,
     "metadata": {},
     "output_type": "execute_result"
    }
   ],
   "source": [
    "# Calculate classification accuracy\n",
    "metrics.accuracy_score(test_y, pred_y1)"
   ]
  },
  {
   "cell_type": "code",
   "execution_count": 24,
   "id": "c26abe7b",
   "metadata": {},
   "outputs": [
    {
     "name": "stdout",
     "output_type": "stream",
     "text": [
      "              precision    recall  f1-score   support\n",
      "\n",
      "           F       0.73      0.73      0.73        11\n",
      "           T       0.70      0.70      0.70        10\n",
      "\n",
      "    accuracy                           0.71        21\n",
      "   macro avg       0.71      0.71      0.71        21\n",
      "weighted avg       0.71      0.71      0.71        21\n",
      "\n"
     ]
    }
   ],
   "source": [
    "# Print classification report\n",
    "print(metrics.classification_report(test_y, pred_y1))"
   ]
  },
  {
   "cell_type": "markdown",
   "id": "6f494835",
   "metadata": {},
   "source": [
    "### 4. Tune Hyper-parameters"
   ]
  },
  {
   "cell_type": "markdown",
   "id": "09866ae8",
   "metadata": {},
   "source": [
    "We need to tune the parameters in order to get a model with better performance.\n",
    "\n",
    "Hyper-parameters are parameters that are not directly learnt within estimators. In scikit-learn they are passed as arguments to the constructor of the estimator classes. Typical examples include C, kernel and gamma for Support Vector Classifier, alpha for Lasso, etc.\n",
    "\n",
    "We can use the sklearn.model_selection.GridSearchCV() to implement the hyper-parameter tuning procedure. Please note that the grid search algorithm might be time consuming when we have complicated models and very large dataset"
   ]
  },
  {
   "cell_type": "markdown",
   "id": "dc841d1c",
   "metadata": {},
   "source": [
    "parameters = {'kernel':['rbf','linear'],\n",
    "              'C':np.logspace(0.001,100,num=5),\n",
    "              'gamma':[0.01,0.02,0.03,0.04,0.05,0.1,0.2,0.3,0.4,0.5]}\n",
    "parameters"
   ]
  },
  {
   "cell_type": "code",
   "execution_count": 35,
   "id": "9f782f5c",
   "metadata": {},
   "outputs": [
    {
     "data": {
      "text/plain": [
       "{'kernel': ['rbf'],\n",
       " 'C': [0.0001, 0.001, 0.01, 0.1, 1, 10, 100],\n",
       " 'gamma': [0.001, 0.01, 0.02, 0.03, 0.04, 0.05, 0.1, 0.2, 0.3, 0.4, 0.5]}"
      ]
     },
     "execution_count": 35,
     "metadata": {},
     "output_type": "execute_result"
    }
   ],
   "source": [
    "parameters = {'kernel':['rbf'],\n",
    "              'C':[0.0001,0.001,0.01,0.1,1,10,100],\n",
    "              'gamma':[0.001,0.01,0.02,0.03,0.04,0.05,0.1,0.2,0.3,0.4,0.5]}\n",
    "parameters"
   ]
  },
  {
   "cell_type": "code",
   "execution_count": 36,
   "id": "b988a146",
   "metadata": {},
   "outputs": [],
   "source": [
    "svc = svm.SVC(probability=True)"
   ]
  },
  {
   "cell_type": "code",
   "execution_count": 37,
   "id": "49279786",
   "metadata": {},
   "outputs": [],
   "source": [
    "grid_svc = model_selection.GridSearchCV(svc, parameters, scoring='accuracy', cv=5, return_train_score=True)"
   ]
  },
  {
   "cell_type": "code",
   "execution_count": 38,
   "id": "f2737b71",
   "metadata": {},
   "outputs": [],
   "source": [
    "# Resample the training dataset\n",
    "new_train_y=dat['TorF']"
   ]
  },
  {
   "cell_type": "code",
   "execution_count": 39,
   "id": "b9d91134",
   "metadata": {},
   "outputs": [
    {
     "data": {
      "text/plain": [
       "(203,)"
      ]
     },
     "execution_count": 39,
     "metadata": {},
     "output_type": "execute_result"
    }
   ],
   "source": [
    "new_train_y.shape"
   ]
  },
  {
   "cell_type": "code",
   "execution_count": 40,
   "id": "153f7d88",
   "metadata": {},
   "outputs": [],
   "source": [
    "new_train_X=pd.concat([dat['Rlon'],dat['Rlat']],axis=1)"
   ]
  },
  {
   "cell_type": "code",
   "execution_count": 41,
   "id": "162d9d6e",
   "metadata": {},
   "outputs": [
    {
     "data": {
      "text/plain": [
       "(203, 2)"
      ]
     },
     "execution_count": 41,
     "metadata": {},
     "output_type": "execute_result"
    }
   ],
   "source": [
    "new_train_X.shape"
   ]
  },
  {
   "cell_type": "code",
   "execution_count": 42,
   "id": "03ac9ac5",
   "metadata": {},
   "outputs": [
    {
     "data": {
      "text/plain": [
       "GridSearchCV(cv=5, estimator=SVC(probability=True),\n",
       "             param_grid={'C': [0.0001, 0.001, 0.01, 0.1, 1, 10, 100],\n",
       "                         'gamma': [0.001, 0.01, 0.02, 0.03, 0.04, 0.05, 0.1,\n",
       "                                   0.2, 0.3, 0.4, 0.5],\n",
       "                         'kernel': ['rbf']},\n",
       "             return_train_score=True, scoring='accuracy')"
      ]
     },
     "execution_count": 42,
     "metadata": {},
     "output_type": "execute_result"
    }
   ],
   "source": [
    "grid_svc.fit(new_train_X,new_train_y)"
   ]
  },
  {
   "cell_type": "code",
   "execution_count": 43,
   "id": "f5256a27",
   "metadata": {},
   "outputs": [
    {
     "data": {
      "text/plain": [
       "{'C': 10, 'gamma': 0.02, 'kernel': 'rbf'}"
      ]
     },
     "execution_count": 43,
     "metadata": {},
     "output_type": "execute_result"
    }
   ],
   "source": [
    "#show the best parameter\n",
    "grid_svc.best_params_"
   ]
  },
  {
   "cell_type": "markdown",
   "id": "81d34255",
   "metadata": {},
   "source": [
    "Train the new SVM with best parameter"
   ]
  },
  {
   "cell_type": "code",
   "execution_count": 45,
   "id": "98043cda",
   "metadata": {},
   "outputs": [],
   "source": [
    "svc_final_1=svm.SVC(kernel='rbf',C=10,gamma=0.02)"
   ]
  },
  {
   "cell_type": "code",
   "execution_count": 46,
   "id": "4b31bb6d",
   "metadata": {},
   "outputs": [
    {
     "data": {
      "text/plain": [
       "SVC(C=10, gamma=0.02)"
      ]
     },
     "execution_count": 46,
     "metadata": {},
     "output_type": "execute_result"
    }
   ],
   "source": [
    "svc_final_1.fit(train_X,train_y)"
   ]
  },
  {
   "cell_type": "code",
   "execution_count": 47,
   "id": "dd71e6bc",
   "metadata": {},
   "outputs": [],
   "source": [
    "pred_y2=svc_final_1.predict(test_X)"
   ]
  },
  {
   "cell_type": "code",
   "execution_count": 48,
   "id": "64bef18e",
   "metadata": {},
   "outputs": [
    {
     "name": "stdout",
     "output_type": "stream",
     "text": [
      "[[8 3]\n",
      " [3 7]]\n"
     ]
    }
   ],
   "source": [
    "print(metrics.confusion_matrix(test_y, pred_y2))"
   ]
  },
  {
   "cell_type": "code",
   "execution_count": 49,
   "id": "882e419c",
   "metadata": {},
   "outputs": [
    {
     "name": "stdout",
     "output_type": "stream",
     "text": [
      "              precision    recall  f1-score   support\n",
      "\n",
      "           F       0.73      0.73      0.73        11\n",
      "           T       0.70      0.70      0.70        10\n",
      "\n",
      "    accuracy                           0.71        21\n",
      "   macro avg       0.71      0.71      0.71        21\n",
      "weighted avg       0.71      0.71      0.71        21\n",
      "\n"
     ]
    }
   ],
   "source": [
    "print(metrics.classification_report(test_y, pred_y2))"
   ]
  },
  {
   "cell_type": "code",
   "execution_count": 50,
   "id": "b4f9d91d",
   "metadata": {},
   "outputs": [
    {
     "data": {
      "text/plain": [
       "{'kernel': ['poly'],\n",
       " 'degree': [4],\n",
       " 'C': [0.0001, 0.001, 0.01, 0.1, 1, 10, 100]}"
      ]
     },
     "execution_count": 50,
     "metadata": {},
     "output_type": "execute_result"
    }
   ],
   "source": [
    "#Since Polynormial takes much more time to grid search, we seperate the process here.\n",
    "parameters = {'kernel':['poly'],\n",
    "              'degree':[4],\n",
    "              'C':[0.0001,0.001,0.01,0.1,1,10,100]}\n",
    "parameters"
   ]
  },
  {
   "cell_type": "code",
   "execution_count": 51,
   "id": "35a51f55",
   "metadata": {},
   "outputs": [],
   "source": [
    "grid_svc = model_selection.GridSearchCV(svc, parameters, scoring='accuracy', cv=5, return_train_score=False)"
   ]
  },
  {
   "cell_type": "code",
   "execution_count": 52,
   "id": "9269091c",
   "metadata": {},
   "outputs": [
    {
     "data": {
      "text/plain": [
       "GridSearchCV(cv=5, estimator=SVC(probability=True),\n",
       "             param_grid={'C': [0.0001, 0.001, 0.01, 0.1, 1, 10, 100],\n",
       "                         'degree': [4], 'kernel': ['poly']},\n",
       "             scoring='accuracy')"
      ]
     },
     "execution_count": 52,
     "metadata": {},
     "output_type": "execute_result"
    }
   ],
   "source": [
    "grid_svc.fit(new_train_X,new_train_y)"
   ]
  },
  {
   "cell_type": "code",
   "execution_count": 53,
   "id": "4948f5db",
   "metadata": {},
   "outputs": [
    {
     "data": {
      "text/plain": [
       "{'C': 1, 'degree': 4, 'kernel': 'poly'}"
      ]
     },
     "execution_count": 53,
     "metadata": {},
     "output_type": "execute_result"
    }
   ],
   "source": [
    "grid_svc.best_params_"
   ]
  },
  {
   "cell_type": "code",
   "execution_count": 54,
   "id": "f9e4cd69",
   "metadata": {},
   "outputs": [],
   "source": [
    "svc_final_2=svm.SVC(kernel='poly',C=1,degree=4)"
   ]
  },
  {
   "cell_type": "code",
   "execution_count": 55,
   "id": "75a3ee9b",
   "metadata": {},
   "outputs": [
    {
     "data": {
      "text/plain": [
       "SVC(C=1, degree=4, kernel='poly')"
      ]
     },
     "execution_count": 55,
     "metadata": {},
     "output_type": "execute_result"
    }
   ],
   "source": [
    "svc_final_2.fit(train_X,train_y)"
   ]
  },
  {
   "cell_type": "code",
   "execution_count": 56,
   "id": "85925b4c",
   "metadata": {},
   "outputs": [],
   "source": [
    "pred_y2=svc_final_2.predict(test_X)"
   ]
  },
  {
   "cell_type": "code",
   "execution_count": 57,
   "id": "53d07366",
   "metadata": {},
   "outputs": [
    {
     "name": "stdout",
     "output_type": "stream",
     "text": [
      "[[8 3]\n",
      " [3 7]]\n"
     ]
    }
   ],
   "source": [
    "print(metrics.confusion_matrix(test_y, pred_y2))"
   ]
  },
  {
   "cell_type": "code",
   "execution_count": 58,
   "id": "82254c40",
   "metadata": {},
   "outputs": [
    {
     "name": "stdout",
     "output_type": "stream",
     "text": [
      "              precision    recall  f1-score   support\n",
      "\n",
      "           F       0.73      0.73      0.73        11\n",
      "           T       0.70      0.70      0.70        10\n",
      "\n",
      "    accuracy                           0.71        21\n",
      "   macro avg       0.71      0.71      0.71        21\n",
      "weighted avg       0.71      0.71      0.71        21\n",
      "\n"
     ]
    }
   ],
   "source": [
    "print(metrics.classification_report(test_y, pred_y2))"
   ]
  },
  {
   "cell_type": "markdown",
   "id": "b935fbaf",
   "metadata": {},
   "source": [
    "### 5. Plot the decision boundaries"
   ]
  },
  {
   "cell_type": "code",
   "execution_count": 59,
   "id": "07b4bcdd",
   "metadata": {},
   "outputs": [],
   "source": [
    "import matplotlib.pyplot as plt"
   ]
  },
  {
   "cell_type": "code",
   "execution_count": 60,
   "id": "01badcb1",
   "metadata": {},
   "outputs": [],
   "source": [
    "x_min, x_max = new_train_X['Rlon'].min() - 1, new_train_X['Rlon'].max() + 1"
   ]
  },
  {
   "cell_type": "code",
   "execution_count": 61,
   "id": "a7578430",
   "metadata": {},
   "outputs": [],
   "source": [
    "y_min, y_max = new_train_X['Rlat'].min() - 1, new_train_X['Rlat'].max() + 1"
   ]
  },
  {
   "cell_type": "code",
   "execution_count": 62,
   "id": "2a5e5818",
   "metadata": {},
   "outputs": [],
   "source": [
    "# step size in the mesh\n",
    "h = 0.02"
   ]
  },
  {
   "cell_type": "code",
   "execution_count": 63,
   "id": "d7b7d3f0",
   "metadata": {},
   "outputs": [],
   "source": [
    "# refer to https://blog.csdn.net/sinat_29957455/article/details/78825945 for detailed explanation in Chinese\n",
    "# Return coordinate matrices from coordinate vectors. \n",
    "xx, yy = np.meshgrid(np.arange(x_min, x_max, h),\n",
    "                     np.arange(y_min, y_max, h))"
   ]
  },
  {
   "cell_type": "code",
   "execution_count": 64,
   "id": "0d4846f1",
   "metadata": {},
   "outputs": [],
   "source": [
    "# title for the plots\n",
    "titles = ['SVC with linear kernel',\n",
    "          'SVC with RBF kernel',\n",
    "          'SVC with polynomial (degree 4) kernel']"
   ]
  },
  {
   "cell_type": "code",
   "execution_count": 65,
   "id": "d21ce449",
   "metadata": {},
   "outputs": [
    {
     "name": "stderr",
     "output_type": "stream",
     "text": [
      "c:\\users\\csgg2\\appdata\\local\\programs\\python\\python39\\lib\\site-packages\\sklearn\\base.py:450: UserWarning: X does not have valid feature names, but SVC was fitted with feature names\n",
      "  warnings.warn(\n",
      "c:\\users\\csgg2\\appdata\\local\\programs\\python\\python39\\lib\\site-packages\\sklearn\\base.py:450: UserWarning: X does not have valid feature names, but SVC was fitted with feature names\n",
      "  warnings.warn(\n",
      "c:\\users\\csgg2\\appdata\\local\\programs\\python\\python39\\lib\\site-packages\\sklearn\\base.py:450: UserWarning: X does not have valid feature names, but SVC was fitted with feature names\n",
      "  warnings.warn(\n"
     ]
    },
    {
     "data": {
      "image/png": "[encoded data removed]",
      "text/plain": [
       "<Figure size 432x288 with 3 Axes>"
      ]
     },
     "metadata": {},
     "output_type": "display_data"
    }
   ],
   "source": [
    "for i, clf in enumerate((svc_linear,svc_final_1,svc_final_2)):\n",
    "    plt.subplot(2, 2, i + 1)\n",
    "    plt.subplots_adjust(wspace=0.4, hspace=0.4)\n",
    "    #Translates slice objects to concatenation along the second axis\n",
    "    Z = clf.predict(np.c_[xx.ravel(), yy.ravel()])\n",
    "    # Put the result into a color plot\n",
    "    Z= np.where(Z=='T',1,Z)\n",
    "    Z= np.where(Z=='F',0,Z)\n",
    "    Z = Z.reshape(xx.shape)\n",
    "    Y = np.where(new_train_y=='T',1,new_train_y)\n",
    "    Y = np.where(Y=='F',0,Y)\n",
    "    plt.contourf(xx, yy, Z, cmap=plt.cm.coolwarm, alpha=0.8)\n",
    "    # Plot also the training points\n",
    "    plt.scatter(new_train_X['Rlon'],new_train_X['Rlat'],c=Y, cmap=plt.cm.coolwarm)\n",
    "    plt.xlabel('Longitude in degree')\n",
    "    plt.ylabel('Latitude in degree')\n",
    "    plt.xlim(81.00,88.00)\n",
    "    plt.ylim(26.00,35.00)\n",
    "    plt.xticks(())\n",
    "    plt.yticks(())\n",
    "    plt.title(titles[i])\n",
    "    \n",
    "plt.show()"
   ]
  },
  {
   "cell_type": "code",
   "execution_count": null,
   "id": "a347838d",
   "metadata": {},
   "outputs": [],
   "source": []
  }
 ],
 "metadata": {
  "kernelspec": {
   "display_name": "Python 3 (ipykernel)",
   "language": "python",
   "name": "python3"
  },
  "language_info": {
   "codemirror_mode": {
    "name": "ipython",
    "version": 3
   },
   "file_extension": ".py",
   "mimetype": "text/x-python",
   "name": "python",
   "nbconvert_exporter": "python",
   "pygments_lexer": "ipython3",
   "version": "3.9.6"
  }
 },
 "nbformat": 4,
 "nbformat_minor": 5
}
